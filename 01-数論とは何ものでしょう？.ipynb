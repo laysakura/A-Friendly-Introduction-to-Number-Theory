{
 "cells": [
  {
   "cell_type": "markdown",
   "metadata": {},
   "source": [
    "# 練習問題 1.1"
   ]
  },
  {
   "cell_type": "code",
   "execution_count": 24,
   "metadata": {
    "vscode": {
     "languageId": "sage"
    }
   },
   "outputs": [
    {
     "name": "stdout",
     "output_type": "stream",
     "text": [
      "n = 1, m = 1, triangle(n) = square(m) = 1\n",
      "n = 8, m = 6, triangle(n) = square(m) = 36\n",
      "n = 49, m = 35, triangle(n) = square(m) = 1225\n",
      "n = 288, m = 204, triangle(n) = square(m) = 41616\n",
      "n = 1681, m = 1189, triangle(n) = square(m) = 1413721\n",
      "n = 9800, m = 6930, triangle(n) = square(m) = 48024900\n",
      "n = 57121, m = 40391, triangle(n) = square(m) = 1631432881\n",
      "n = 332928, m = 235416, triangle(n) = square(m) = 55420693056\n"
     ]
    }
   ],
   "source": [
    "def triangle(n: int) -> int:\n",
    "    return n * (n + 1) // 2\n",
    "\n",
    "def square(n: int) -> int:\n",
    "    return n ** 2\n",
    "\n",
    "# triangle(n) == square(m) となる n, m を出力する。\n",
    "# ただし、 n >= m >= 1。\n",
    "\n",
    "def find_triangle_square(max_n: int):\n",
    "    n = 1\n",
    "    m = 1\n",
    "\n",
    "    while n < max_n:\n",
    "        t = triangle(n)\n",
    "        s = square(m)\n",
    "        if t == s:\n",
    "            print(f\"n = {n}, m = {m}, triangle(n) = square(m) = {t}\")\n",
    "            n += 1\n",
    "            m += 1\n",
    "        elif t < s:\n",
    "            n += 1\n",
    "        else:\n",
    "            m += 1\n",
    "\n",
    "find_triangle_square(1000000)"
   ]
  },
  {
   "cell_type": "code",
   "execution_count": 25,
   "metadata": {
    "vscode": {
     "languageId": "sage"
    }
   },
   "outputs": [
    {
     "data": {
      "text/latex": [
       "\n",
       "$n = 8, m = 6$ のとき、\n",
       "\n",
       "\\begin{align*}\n",
       "8 * 9 = 2 * 6^2 \\\\\n",
       "(2 * 2^2) * (3^2) = 2 * (2*3)^2\n",
       "\\end{align*}\n",
       "\n",
       "$n = 49, m = 35$ のとき、\n",
       "\n",
       "\\begin{align*}\n",
       "49 * 50 = 2 * 35^2 \\\\\n",
       "(7^2) * (2 * 5^2) = 2 * (7*5)^2\n",
       "\\end{align*}\n",
       "\n",
       "$n = 288, m = 204$ のとき、\n",
       "\n",
       "\\begin{align*}\n",
       "288 * 289 = 2 * 204^2 \\\\\n",
       "(2 * 12^2) * (17^2) = 2 * (12*17)^2\n",
       "\\end{align*}\n",
       "\n",
       "つまり、 $m = m_1 m_2 (m_1 < m_2)$ と置くと、 $n = 2 m_1^2, n + 1 = m_2^2$ または $n = m_2^2, n + 1 = 2 m_1^2$ の形になることが予想される。\n",
       "\n",
       "... その先はﾜｶﾗﾅｲ\n"
      ],
      "text/plain": [
       "<IPython.core.display.Latex object>"
      ]
     },
     "metadata": {},
     "output_type": "display_data"
    }
   ],
   "source": [
    "%%latex\n",
    "\n",
    "$n = 8, m = 6$ のとき、\n",
    "\n",
    "\\begin{align*}\n",
    "8 * 9 = 2 * 6^2 \\\\\n",
    "(2 * 2^2) * (3^2) = 2 * (2*3)^2\n",
    "\\end{align*}\n",
    "\n",
    "$n = 49, m = 35$ のとき、\n",
    "\n",
    "\\begin{align*}\n",
    "49 * 50 = 2 * 35^2 \\\\\n",
    "(7^2) * (2 * 5^2) = 2 * (7*5)^2\n",
    "\\end{align*}\n",
    "\n",
    "$n = 288, m = 204$ のとき、\n",
    "\n",
    "\\begin{align*}\n",
    "288 * 289 = 2 * 204^2 \\\\\n",
    "(2 * 12^2) * (17^2) = 2 * (12*17)^2\n",
    "\\end{align*}\n",
    "\n",
    "つまり、 $m = m_1 m_2 (m_1 < m_2)$ と置くと、 $n = 2 m_1^2, n + 1 = m_2^2$ または $n = m_2^2, n + 1 = 2 m_1^2$ の形になることが予想される。\n",
    "\n",
    "... その先はﾜｶﾗﾅｲ\n"
   ]
  },
  {
   "cell_type": "markdown",
   "metadata": {},
   "source": [
    "# 練習問題 1.2"
   ]
  }
 ],
 "metadata": {
  "kernelspec": {
   "display_name": "SageMath 10.4",
   "language": "sage",
   "name": "SageMath-10.4"
  },
  "language_info": {
   "codemirror_mode": {
    "name": "ipython",
    "version": 3
   },
   "file_extension": ".py",
   "mimetype": "text/x-python",
   "name": "python",
   "nbconvert_exporter": "python",
   "pygments_lexer": "ipython3",
   "version": "3.12.4"
  }
 },
 "nbformat": 4,
 "nbformat_minor": 2
}
