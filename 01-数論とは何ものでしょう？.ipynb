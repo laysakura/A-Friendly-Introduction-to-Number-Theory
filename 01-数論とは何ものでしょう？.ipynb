{
 "cells": [
  {
   "cell_type": "markdown",
   "metadata": {},
   "source": [
    "# 練習問題 1.1"
   ]
  },
  {
   "cell_type": "code",
   "execution_count": 24,
   "metadata": {
    "vscode": {
     "languageId": "sage"
    }
   },
   "outputs": [
    {
     "name": "stdout",
     "output_type": "stream",
     "text": [
      "n = 1, m = 1, triangle(n) = square(m) = 1\n",
      "n = 8, m = 6, triangle(n) = square(m) = 36\n",
      "n = 49, m = 35, triangle(n) = square(m) = 1225\n",
      "n = 288, m = 204, triangle(n) = square(m) = 41616\n",
      "n = 1681, m = 1189, triangle(n) = square(m) = 1413721\n",
      "n = 9800, m = 6930, triangle(n) = square(m) = 48024900\n",
      "n = 57121, m = 40391, triangle(n) = square(m) = 1631432881\n",
      "n = 332928, m = 235416, triangle(n) = square(m) = 55420693056\n"
     ]
    }
   ],
   "source": [
    "def triangle(n: int) -> int:\n",
    "    return n * (n + 1) // 2\n",
    "\n",
    "def square(n: int) -> int:\n",
    "    return n ** 2\n",
    "\n",
    "# triangle(n) == square(m) となる n, m を出力する。\n",
    "# ただし、 n >= m >= 1。\n",
    "\n",
    "def find_triangle_square(max_n: int):\n",
    "    n = 1\n",
    "    m = 1\n",
    "\n",
    "    while n < max_n:\n",
    "        t = triangle(n)\n",
    "        s = square(m)\n",
    "        if t == s:\n",
    "            print(f\"n = {n}, m = {m}, triangle(n) = square(m) = {t}\")\n",
    "            n += 1\n",
    "            m += 1\n",
    "        elif t < s:\n",
    "            n += 1\n",
    "        else:\n",
    "            m += 1\n",
    "\n",
    "find_triangle_square(1000000)"
   ]
  },
  {
   "cell_type": "code",
   "execution_count": 25,
   "metadata": {
    "vscode": {
     "languageId": "sage"
    }
   },
   "outputs": [
    {
     "data": {
      "text/latex": [
       "\n",
       "$n = 8, m = 6$ のとき、\n",
       "\n",
       "\\begin{align*}\n",
       "8 * 9 = 2 * 6^2 \\\\\n",
       "(2 * 2^2) * (3^2) = 2 * (2*3)^2\n",
       "\\end{align*}\n",
       "\n",
       "$n = 49, m = 35$ のとき、\n",
       "\n",
       "\\begin{align*}\n",
       "49 * 50 = 2 * 35^2 \\\\\n",
       "(7^2) * (2 * 5^2) = 2 * (7*5)^2\n",
       "\\end{align*}\n",
       "\n",
       "$n = 288, m = 204$ のとき、\n",
       "\n",
       "\\begin{align*}\n",
       "288 * 289 = 2 * 204^2 \\\\\n",
       "(2 * 12^2) * (17^2) = 2 * (12*17)^2\n",
       "\\end{align*}\n",
       "\n",
       "つまり、 $m = m_1 m_2 (m_1 < m_2)$ と置くと、 $n = 2 m_1^2, n + 1 = m_2^2$ または $n = m_2^2, n + 1 = 2 m_1^2$ の形になることが予想される。\n",
       "\n",
       "... その先はﾜｶﾗﾅｲ\n"
      ],
      "text/plain": [
       "<IPython.core.display.Latex object>"
      ]
     },
     "metadata": {},
     "output_type": "display_data"
    }
   ],
   "source": [
    "%%latex\n",
    "\n",
    "$n = 8, m = 6$ のとき、\n",
    "\n",
    "\\begin{align*}\n",
    "8 * 9 = 2 * 6^2 \\\\\n",
    "(2 * 2^2) * (3^2) = 2 * (2*3)^2\n",
    "\\end{align*}\n",
    "\n",
    "$n = 49, m = 35$ のとき、\n",
    "\n",
    "\\begin{align*}\n",
    "49 * 50 = 2 * 35^2 \\\\\n",
    "(7^2) * (2 * 5^2) = 2 * (7*5)^2\n",
    "\\end{align*}\n",
    "\n",
    "$n = 288, m = 204$ のとき、\n",
    "\n",
    "\\begin{align*}\n",
    "288 * 289 = 2 * 204^2 \\\\\n",
    "(2 * 12^2) * (17^2) = 2 * (12*17)^2\n",
    "\\end{align*}\n",
    "\n",
    "つまり、 $m = m_1 m_2 (m_1 < m_2)$ と置くと、 $n = 2 m_1^2, n + 1 = m_2^2$ または $n = m_2^2, n + 1 = 2 m_1^2$ の形になることが予想される。\n",
    "\n",
    "... その先はﾜｶﾗﾅｲ\n"
   ]
  },
  {
   "cell_type": "markdown",
   "metadata": {},
   "source": [
    "# 練習問題 1.2"
   ]
  },
  {
   "cell_type": "code",
   "execution_count": 2,
   "metadata": {
    "vscode": {
     "languageId": "sage"
    }
   },
   "outputs": [
    {
     "data": {
      "text/latex": [
       "\n",
       "\\begin{align*}\n",
       "1 = 1\\\\\n",
       "1 + 3 = 4\\\\\n",
       "1 + 3 + 5 = 9\\\\\n",
       "1 + 3 + 5 + 7 = 16\\\\\n",
       "\\end{align*}\n",
       "\n",
       "平方数になっている。つまり\n",
       "\n",
       "\\begin{align*}\n",
       "\\Sigma_{k=1}^{n} (2k - 1) = n^2\n",
       "\\end{align*}\n",
       "\n",
       "が公式っぽい。\n",
       "\n",
       "図形的に示すのは... 諦め\n"
      ],
      "text/plain": [
       "<IPython.core.display.Latex object>"
      ]
     },
     "metadata": {},
     "output_type": "display_data"
    }
   ],
   "source": [
    "%%latex\n",
    "\n",
    "\\begin{align*}\n",
    "1 = 1\\\\\n",
    "1 + 3 = 4\\\\\n",
    "1 + 3 + 5 = 9\\\\\n",
    "1 + 3 + 5 + 7 = 16\\\\\n",
    "\\end{align*}\n",
    "\n",
    "平方数になっている。つまり\n",
    "\n",
    "\\begin{align*}\n",
    "\\Sigma_{k=1}^{n} (2k - 1) = n^2\n",
    "\\end{align*}\n",
    "\n",
    "が公式っぽい。\n",
    "\n",
    "図形的に示すのは... 諦め"
   ]
  },
  {
   "cell_type": "markdown",
   "metadata": {},
   "source": [
    "# 練習問題 1.3"
   ]
  },
  {
   "cell_type": "code",
   "execution_count": 5,
   "metadata": {
    "vscode": {
     "languageId": "sage"
    }
   },
   "outputs": [
    {
     "data": {
      "text/latex": [
       "\n",
       "\\begin{align*}\n",
       "3, 5, 7\\\\\n",
       "5, 7, 9 (9は合成数)\\\\\n",
       "7, 9, 11 (9は合成数)\\\\\n",
       "9, 11, 13 (9は合成数)\\\\\n",
       "11, 13, 15 (15は合成数)\\\\\n",
       "17, 19, 21 (21は合成数)\\\\\n",
       "23, 25, 27 (25, 27は合成数)\\\\\n",
       "\\end{align*}\n",
       "\n",
       "3の倍数が入ってしまうからだめっぽいね。\n",
       "\n",
       "つまり、$p, p+2, p+4$ はいずれも3で割った余りが異なるはずで、いずれかは3の倍数。\n",
       "したがって、 $p = 3$ の場合のみこれら3つ全てが素数。\n",
       "\n"
      ],
      "text/plain": [
       "<IPython.core.display.Latex object>"
      ]
     },
     "metadata": {},
     "output_type": "display_data"
    }
   ],
   "source": [
    "%%latex\n",
    "\n",
    "\\begin{align*}\n",
    "3, 5, 7\\\\\n",
    "5, 7, 9 (9は合成数)\\\\\n",
    "7, 9, 11 (9は合成数)\\\\\n",
    "9, 11, 13 (9は合成数)\\\\\n",
    "11, 13, 15 (15は合成数)\\\\\n",
    "17, 19, 21 (21は合成数)\\\\\n",
    "23, 25, 27 (25, 27は合成数)\\\\\n",
    "\\end{align*}\n",
    "\n",
    "3の倍数が入ってしまうからだめっぽいね。\n",
    "\n",
    "つまり、$p, p+2, p+4$ はいずれも3で割った余りが異なるはずで、いずれかは3の倍数。\n",
    "したがって、 $p = 3$ の場合のみこれら3つ全てが素数。\n",
    "\n"
   ]
  },
  {
   "cell_type": "markdown",
   "metadata": {},
   "source": [
    "# 練習問題 1.4 (a)"
   ]
  },
  {
   "cell_type": "code",
   "execution_count": 6,
   "metadata": {
    "vscode": {
     "languageId": "sage"
    }
   },
   "outputs": [
    {
     "data": {
      "text/latex": [
       "\n",
       "\\begin{align*}\n",
       "N^2 - 1 = (N - 1)(N + 1)\n",
       "\\end{align*}\n",
       "\n",
       "であるため、 $N > 2$ の場合は $N^2 - 1$ は合成数。\n"
      ],
      "text/plain": [
       "<IPython.core.display.Latex object>"
      ]
     },
     "metadata": {},
     "output_type": "display_data"
    }
   ],
   "source": [
    "%%latex\n",
    "\n",
    "\\begin{align*}\n",
    "N^2 - 1 = (N - 1)(N + 1)\n",
    "\\end{align*}\n",
    "\n",
    "であるため、 $N > 2$ の場合は $N^2 - 1$ は合成数。"
   ]
  },
  {
   "cell_type": "markdown",
   "metadata": {},
   "source": [
    "# 練習問題 1.4 (b)"
   ]
  },
  {
   "cell_type": "code",
   "execution_count": 10,
   "metadata": {
    "vscode": {
     "languageId": "sage"
    }
   },
   "outputs": [
    {
     "name": "stdout",
     "output_type": "stream",
     "text": [
      "Set of all prime numbers: 2, 3, 5, 7, ...\n",
      "2^2 - 2 = 2 is prime\n",
      "3^2 - 2 = 7 is prime\n",
      "5^2 - 2 = 23 is prime\n",
      "7^2 - 2 = 47 is prime\n",
      "9^2 - 2 = 79 is prime\n",
      "13^2 - 2 = 167 is prime\n",
      "15^2 - 2 = 223 is prime\n",
      "19^2 - 2 = 359 is prime\n",
      "21^2 - 2 = 439 is prime\n",
      "27^2 - 2 = 727 is prime\n",
      "29^2 - 2 = 839 is prime\n",
      "33^2 - 2 = 1087 is prime\n",
      "35^2 - 2 = 1223 is prime\n",
      "37^2 - 2 = 1367 is prime\n",
      "43^2 - 2 = 1847 is prime\n",
      "47^2 - 2 = 2207 is prime\n",
      "49^2 - 2 = 2399 is prime\n",
      "55^2 - 2 = 3023 is prime\n",
      "61^2 - 2 = 3719 is prime\n",
      "63^2 - 2 = 3967 is prime\n",
      "69^2 - 2 = 4759 is prime\n",
      "71^2 - 2 = 5039 is prime\n",
      "75^2 - 2 = 5623 is prime\n",
      "77^2 - 2 = 5927 is prime\n",
      "89^2 - 2 = 7919 is prime\n",
      "93^2 - 2 = 8647 is prime\n",
      "103^2 - 2 = 10607 is prime\n",
      "107^2 - 2 = 11447 is prime\n",
      "117^2 - 2 = 13687 is prime\n",
      "119^2 - 2 = 14159 is prime\n",
      "121^2 - 2 = 14639 is prime\n",
      "127^2 - 2 = 16127 is prime\n",
      "131^2 - 2 = 17159 is prime\n",
      "135^2 - 2 = 18223 is prime\n",
      "139^2 - 2 = 19319 is prime\n",
      "145^2 - 2 = 21023 is prime\n",
      "155^2 - 2 = 24023 is prime\n",
      "161^2 - 2 = 25919 is prime\n",
      "169^2 - 2 = 28559 is prime\n",
      "173^2 - 2 = 29927 is prime\n",
      "177^2 - 2 = 31327 is prime\n",
      "183^2 - 2 = 33487 is prime\n",
      "191^2 - 2 = 36479 is prime\n",
      "205^2 - 2 = 42023 is prime\n",
      "211^2 - 2 = 44519 is prime\n",
      "217^2 - 2 = 47087 is prime\n",
      "223^2 - 2 = 49727 is prime\n",
      "231^2 - 2 = 53359 is prime\n",
      "233^2 - 2 = 54287 is prime\n",
      "237^2 - 2 = 56167 is prime\n",
      "239^2 - 2 = 57119 is prime\n",
      "247^2 - 2 = 61007 is prime\n",
      "253^2 - 2 = 64007 is prime\n",
      "257^2 - 2 = 66047 is prime\n",
      "259^2 - 2 = 67079 is prime\n",
      "265^2 - 2 = 70223 is prime\n",
      "267^2 - 2 = 71287 is prime\n",
      "273^2 - 2 = 74527 is prime\n",
      "279^2 - 2 = 77839 is prime\n",
      "285^2 - 2 = 81223 is prime\n",
      "293^2 - 2 = 85847 is prime\n",
      "299^2 - 2 = 89399 is prime\n",
      "301^2 - 2 = 90599 is prime\n",
      "303^2 - 2 = 91807 is prime\n",
      "309^2 - 2 = 95479 is prime\n",
      "313^2 - 2 = 97967 is prime\n",
      "315^2 - 2 = 99223 is prime\n",
      "323^2 - 2 = 104327 is prime\n",
      "335^2 - 2 = 112223 is prime\n",
      "337^2 - 2 = 113567 is prime\n",
      "341^2 - 2 = 116279 is prime\n",
      "355^2 - 2 = 126023 is prime\n",
      "357^2 - 2 = 127447 is prime\n",
      "359^2 - 2 = 128879 is prime\n",
      "371^2 - 2 = 137639 is prime\n",
      "387^2 - 2 = 149767 is prime\n",
      "391^2 - 2 = 152879 is prime\n",
      "399^2 - 2 = 159199 is prime\n",
      "405^2 - 2 = 164023 is prime\n",
      "415^2 - 2 = 172223 is prime\n",
      "421^2 - 2 = 177239 is prime\n",
      "425^2 - 2 = 180623 is prime\n",
      "429^2 - 2 = 184039 is prime\n",
      "435^2 - 2 = 189223 is prime\n",
      "441^2 - 2 = 194479 is prime\n",
      "443^2 - 2 = 196247 is prime\n",
      "447^2 - 2 = 199807 is prime\n",
      "449^2 - 2 = 201599 is prime\n",
      "467^2 - 2 = 218087 is prime\n",
      "469^2 - 2 = 219959 is prime\n",
      "481^2 - 2 = 231359 is prime\n",
      "489^2 - 2 = 239119 is prime\n",
      "491^2 - 2 = 241079 is prime\n",
      "495^2 - 2 = 245023 is prime\n",
      "497^2 - 2 = 247007 is prime\n",
      "505^2 - 2 = 255023 is prime\n",
      "513^2 - 2 = 263167 is prime\n",
      "523^2 - 2 = 273527 is prime\n",
      "525^2 - 2 = 275623 is prime\n",
      "531^2 - 2 = 281959 is prime\n",
      "541^2 - 2 = 292679 is prime\n",
      "545^2 - 2 = 297023 is prime\n",
      "561^2 - 2 = 314719 is prime\n",
      "565^2 - 2 = 319223 is prime\n",
      "569^2 - 2 = 323759 is prime\n",
      "573^2 - 2 = 328327 is prime\n",
      "575^2 - 2 = 330623 is prime\n",
      "583^2 - 2 = 339887 is prime\n",
      "587^2 - 2 = 344567 is prime\n",
      "595^2 - 2 = 354023 is prime\n",
      "607^2 - 2 = 368447 is prime\n",
      "609^2 - 2 = 370879 is prime\n",
      "615^2 - 2 = 378223 is prime\n",
      "621^2 - 2 = 385639 is prime\n",
      "637^2 - 2 = 405767 is prime\n",
      "645^2 - 2 = 416023 is prime\n",
      "653^2 - 2 = 426407 is prime\n",
      "663^2 - 2 = 439567 is prime\n",
      "667^2 - 2 = 444887 is prime\n",
      "671^2 - 2 = 450239 is prime\n",
      "677^2 - 2 = 458327 is prime\n",
      "713^2 - 2 = 508367 is prime\n",
      "715^2 - 2 = 511223 is prime\n",
      "719^2 - 2 = 516959 is prime\n",
      "727^2 - 2 = 528527 is prime\n",
      "733^2 - 2 = 537287 is prime\n",
      "743^2 - 2 = 552047 is prime\n",
      "747^2 - 2 = 558007 is prime\n",
      "751^2 - 2 = 563999 is prime\n",
      "757^2 - 2 = 573047 is prime\n",
      "761^2 - 2 = 579119 is prime\n",
      "763^2 - 2 = 582167 is prime\n",
      "775^2 - 2 = 600623 is prime\n",
      "779^2 - 2 = 606839 is prime\n",
      "785^2 - 2 = 616223 is prime\n",
      "789^2 - 2 = 622519 is prime\n",
      "797^2 - 2 = 635207 is prime\n",
      "807^2 - 2 = 651247 is prime\n",
      "811^2 - 2 = 657719 is prime\n",
      "817^2 - 2 = 667487 is prime\n",
      "825^2 - 2 = 680623 is prime\n",
      "841^2 - 2 = 707279 is prime\n",
      "863^2 - 2 = 744767 is prime\n",
      "875^2 - 2 = 765623 is prime\n",
      "881^2 - 2 = 776159 is prime\n",
      "897^2 - 2 = 804607 is prime\n",
      "901^2 - 2 = 811799 is prime\n",
      "931^2 - 2 = 866759 is prime\n",
      "943^2 - 2 = 889247 is prime\n",
      "945^2 - 2 = 893023 is prime\n",
      "951^2 - 2 = 904399 is prime\n",
      "959^2 - 2 = 919679 is prime\n",
      "973^2 - 2 = 946727 is prime\n",
      "979^2 - 2 = 958439 is prime\n",
      "987^2 - 2 = 974167 is prime\n",
      "993^2 - 2 = 986047 is prime\n",
      "995^2 - 2 = 990023 is prime\n"
     ]
    }
   ],
   "source": [
    "P = Primes()\n",
    "print(P)\n",
    "\n",
    "for n in range(2, 1000):\n",
    "    v = n^2 - 2\n",
    "    if v in P:\n",
    "        print(f\"{n}^2 - 2 = {v} is prime\")\n"
   ]
  },
  {
   "cell_type": "markdown",
   "metadata": {},
   "source": [
    "無限な匂いがするが... わからんな"
   ]
  },
  {
   "cell_type": "markdown",
   "metadata": {},
   "source": [
    "# 練習問題 1.4 (c)"
   ]
  },
  {
   "cell_type": "code",
   "execution_count": 11,
   "metadata": {
    "vscode": {
     "languageId": "sage"
    }
   },
   "outputs": [
    {
     "name": "stdout",
     "output_type": "stream",
     "text": [
      "Set of all prime numbers: 2, 3, 5, 7, ...\n",
      "4^2 - 3 = 13 is prime\n",
      "8^2 - 3 = 61 is prime\n",
      "10^2 - 3 = 97 is prime\n",
      "14^2 - 3 = 193 is prime\n",
      "20^2 - 3 = 397 is prime\n",
      "26^2 - 3 = 673 is prime\n",
      "32^2 - 3 = 1021 is prime\n",
      "34^2 - 3 = 1153 is prime\n",
      "40^2 - 3 = 1597 is prime\n",
      "44^2 - 3 = 1933 is prime\n",
      "46^2 - 3 = 2113 is prime\n",
      "58^2 - 3 = 3361 is prime\n",
      "64^2 - 3 = 4093 is prime\n",
      "68^2 - 3 = 4621 is prime\n",
      "80^2 - 3 = 6397 is prime\n",
      "86^2 - 3 = 7393 is prime\n",
      "88^2 - 3 = 7741 is prime\n",
      "92^2 - 3 = 8461 is prime\n",
      "98^2 - 3 = 9601 is prime\n",
      "110^2 - 3 = 12097 is prime\n",
      "112^2 - 3 = 12541 is prime\n",
      "118^2 - 3 = 13921 is prime\n",
      "124^2 - 3 = 15373 is prime\n",
      "128^2 - 3 = 16381 is prime\n",
      "136^2 - 3 = 18493 is prime\n",
      "140^2 - 3 = 19597 is prime\n",
      "142^2 - 3 = 20161 is prime\n",
      "146^2 - 3 = 21313 is prime\n",
      "164^2 - 3 = 26893 is prime\n",
      "172^2 - 3 = 29581 is prime\n",
      "190^2 - 3 = 36097 is prime\n",
      "194^2 - 3 = 37633 is prime\n",
      "202^2 - 3 = 40801 is prime\n",
      "206^2 - 3 = 42433 is prime\n",
      "208^2 - 3 = 43261 is prime\n",
      "218^2 - 3 = 47521 is prime\n",
      "220^2 - 3 = 48397 is prime\n",
      "250^2 - 3 = 62497 is prime\n",
      "254^2 - 3 = 64513 is prime\n",
      "266^2 - 3 = 70753 is prime\n",
      "268^2 - 3 = 71821 is prime\n",
      "296^2 - 3 = 87613 is prime\n",
      "298^2 - 3 = 88801 is prime\n",
      "304^2 - 3 = 92413 is prime\n",
      "310^2 - 3 = 96097 is prime\n",
      "320^2 - 3 = 102397 is prime\n",
      "322^2 - 3 = 103681 is prime\n",
      "326^2 - 3 = 106273 is prime\n",
      "328^2 - 3 = 107581 is prime\n",
      "332^2 - 3 = 110221 is prime\n",
      "340^2 - 3 = 115597 is prime\n",
      "350^2 - 3 = 122497 is prime\n",
      "356^2 - 3 = 126733 is prime\n",
      "362^2 - 3 = 131041 is prime\n",
      "370^2 - 3 = 136897 is prime\n",
      "416^2 - 3 = 173053 is prime\n",
      "418^2 - 3 = 174721 is prime\n",
      "436^2 - 3 = 190093 is prime\n",
      "440^2 - 3 = 193597 is prime\n",
      "452^2 - 3 = 204301 is prime\n",
      "460^2 - 3 = 211597 is prime\n",
      "470^2 - 3 = 220897 is prime\n",
      "488^2 - 3 = 238141 is prime\n",
      "494^2 - 3 = 244033 is prime\n",
      "502^2 - 3 = 252001 is prime\n",
      "506^2 - 3 = 256033 is prime\n",
      "508^2 - 3 = 258061 is prime\n",
      "526^2 - 3 = 276673 is prime\n",
      "530^2 - 3 = 280897 is prime\n",
      "548^2 - 3 = 300301 is prime\n",
      "554^2 - 3 = 306913 is prime\n",
      "560^2 - 3 = 313597 is prime\n",
      "574^2 - 3 = 329473 is prime\n",
      "580^2 - 3 = 336397 is prime\n",
      "586^2 - 3 = 343393 is prime\n",
      "590^2 - 3 = 348097 is prime\n",
      "608^2 - 3 = 369661 is prime\n",
      "626^2 - 3 = 391873 is prime\n",
      "634^2 - 3 = 401953 is prime\n",
      "640^2 - 3 = 409597 is prime\n",
      "652^2 - 3 = 425101 is prime\n",
      "656^2 - 3 = 430333 is prime\n",
      "658^2 - 3 = 432961 is prime\n",
      "662^2 - 3 = 438241 is prime\n",
      "664^2 - 3 = 440893 is prime\n",
      "668^2 - 3 = 446221 is prime\n",
      "686^2 - 3 = 470593 is prime\n",
      "692^2 - 3 = 478861 is prime\n",
      "694^2 - 3 = 481633 is prime\n",
      "704^2 - 3 = 495613 is prime\n",
      "712^2 - 3 = 506941 is prime\n",
      "722^2 - 3 = 521281 is prime\n",
      "728^2 - 3 = 529981 is prime\n",
      "736^2 - 3 = 541693 is prime\n",
      "746^2 - 3 = 556513 is prime\n",
      "770^2 - 3 = 592897 is prime\n",
      "772^2 - 3 = 595981 is prime\n",
      "790^2 - 3 = 624097 is prime\n",
      "794^2 - 3 = 630433 is prime\n",
      "796^2 - 3 = 633613 is prime\n",
      "800^2 - 3 = 639997 is prime\n",
      "806^2 - 3 = 649633 is prime\n",
      "818^2 - 3 = 669121 is prime\n",
      "832^2 - 3 = 692221 is prime\n",
      "848^2 - 3 = 719101 is prime\n",
      "868^2 - 3 = 753421 is prime\n",
      "878^2 - 3 = 770881 is prime\n",
      "884^2 - 3 = 781453 is prime\n",
      "892^2 - 3 = 795661 is prime\n",
      "902^2 - 3 = 813601 is prime\n",
      "920^2 - 3 = 846397 is prime\n",
      "922^2 - 3 = 850081 is prime\n",
      "934^2 - 3 = 872353 is prime\n",
      "944^2 - 3 = 891133 is prime\n",
      "956^2 - 3 = 913933 is prime\n",
      "964^2 - 3 = 929293 is prime\n",
      "976^2 - 3 = 952573 is prime\n",
      "994^2 - 3 = 988033 is prime\n",
      "998^2 - 3 = 996001 is prime\n"
     ]
    }
   ],
   "source": [
    "P = Primes()\n",
    "print(P)\n",
    "\n",
    "for n in range(2, 1000):\n",
    "    v = n^2 - 3\n",
    "    if v in P:\n",
    "        print(f\"{n}^2 - 3 = {v} is prime\")\n"
   ]
  },
  {
   "cell_type": "markdown",
   "metadata": {},
   "source": [
    "(b) と同様、 $N^2 - 3$ の素数は無限個な気がするがわからん。\n",
    "\n",
    "$N^2 - 4 = (N-2)(N+2)$ は合成数。"
   ]
  },
  {
   "cell_type": "markdown",
   "metadata": {},
   "source": [
    "# 練習問題 1.4 (d)\n",
    "\n",
    "$a$ が平方数では駄目。また、aは正の数である必要がある。それ以外はわからん"
   ]
  }
 ],
 "metadata": {
  "kernelspec": {
   "display_name": "SageMath 10.4",
   "language": "sage",
   "name": "SageMath-10.4"
  },
  "language_info": {
   "codemirror_mode": {
    "name": "ipython",
    "version": 3
   },
   "file_extension": ".py",
   "mimetype": "text/x-python",
   "name": "python",
   "nbconvert_exporter": "python",
   "pygments_lexer": "ipython3",
   "version": "3.12.4"
  }
 },
 "nbformat": 4,
 "nbformat_minor": 2
}
